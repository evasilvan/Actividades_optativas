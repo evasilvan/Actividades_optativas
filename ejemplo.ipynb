{
 "cells": [
  {
   "cell_type": "markdown",
   "metadata": {},
   "source": [
    "# Mi primer Notebook!\n"
   ]
  },
  {
   "cell_type": "markdown",
   "metadata": {},
   "source": [
    "2do C. Silván Ortubay, Eva"
   ]
  },
  {
   "cell_type": "code",
   "execution_count": 1,
   "metadata": {},
   "outputs": [
    {
     "name": "stdout",
     "output_type": "stream",
     "text": [
      "Hola Mundo\n"
     ]
    }
   ],
   "source": [
    "print(\"Hola Mundo\")"
   ]
  },
  {
   "cell_type": "markdown",
   "metadata": {},
   "source": [
    "## Mis primeros descriptivos con Pandas"
   ]
  },
  {
   "cell_type": "markdown",
   "metadata": {},
   "source": [
    "Importa la biblioteca pandas y la asigna al alias pd para simplificar su uso en el código."
   ]
  },
  {
   "cell_type": "code",
   "execution_count": null,
   "metadata": {},
   "outputs": [],
   "source": [
    "# Importar la biblioteca pandas y asignarle el alias pd \n",
    "import pandas as pd"
   ]
  },
  {
   "cell_type": "markdown",
   "metadata": {},
   "source": [
    "Define un DataFrame llamado df usando pandas, con dos columnas: \"edad\" y \"peso\", y sus valores asociados."
   ]
  },
  {
   "cell_type": "code",
   "execution_count": null,
   "metadata": {},
   "outputs": [],
   "source": [
    "# Crear un diccionario con datos de edad y peso\n",
    "datos = {\n",
    "    'edad': [8, 9, 10, 11, 12],\n",
    "    'peso': [30, 32, 35, 37, 40]\n",
    "}\n",
    "# Convertir el diccionario en un DataFrame de pandas para análisis de datos\n",
    "df = pd.DataFrame(datos)"
   ]
  },
  {
   "cell_type": "markdown",
   "metadata": {},
   "source": [
    "Calcula y muestra la media y desviación típica de las columnas \"edad\" y \"peso\" del DataFrame df."
   ]
  },
  {
   "cell_type": "code",
   "execution_count": null,
   "metadata": {},
   "outputs": [
    {
     "name": "stdout",
     "output_type": "stream",
     "text": [
      "Media de Edad: 10.0\n",
      "Desviación Típica de Edad: 1.5811388300841898\n",
      "Media de Peso: 34.8\n",
      "Desviación Típica de Peso: 3.9623225512317903\n"
     ]
    }
   ],
   "source": [
    "# Calcular la media y la desviación típica de las columnas 'edad' y 'peso'\n",
    "media_edad = df['edad'].mean()\n",
    "desviacion_tipica_edad = df['edad'].std()\n",
    "\n",
    "media_peso = df['peso'].mean()\n",
    "desviacion_tipica_peso = df['peso'].std()\n",
    "\n",
    "print(\"Media de Edad:\", media_edad)\n",
    "print(\"Desviación Típica de Edad:\", desviacion_tipica_edad)\n",
    "print(\"Media de Peso:\", media_peso)\n",
    "print(\"Desviación Típica de Peso:\", desviacion_tipica_peso)"
   ]
  }
 ],
 "metadata": {
  "kernelspec": {
   "display_name": "Python 3",
   "language": "python",
   "name": "python3"
  },
  "language_info": {
   "codemirror_mode": {
    "name": "ipython",
    "version": 3
   },
   "file_extension": ".py",
   "mimetype": "text/x-python",
   "name": "python",
   "nbconvert_exporter": "python",
   "pygments_lexer": "ipython3",
   "version": "3.11.9"
  }
 },
 "nbformat": 4,
 "nbformat_minor": 2
}
